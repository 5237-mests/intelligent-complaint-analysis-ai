{
  "cells": [
    {
      "cell_type": "markdown",
      "metadata": {
        "id": "view-in-github"
      },
      "source": [
        "<a href=\"https://colab.research.google.com/github/5237-mests/Amharic-E-commerce-Data-Extractor/blob/task-3/notebooks/finetuning_colabnb.ipynb\" target=\"_parent\"><img src=\"https://colab.research.google.com/assets/colab-badge.svg\" alt=\"Open In Colab\"/></a>"
      ]
    },
    {
      "cell_type": "markdown",
      "metadata": {
        "id": "bt0XUm1Ji3fU"
      },
      "source": [
        "# RAG"
      ]
    },
    {
      "cell_type": "code",
      "execution_count": null,
      "metadata": {},
      "outputs": [
        {
          "name": "stdout",
          "output_type": "stream",
          "text": [
            "🔍 Filtering large CSV...\n",
            "💾 Saving filtered data as Parquet...\n",
            "✅ Done! Saved to: ../data/filtered_complaints.parquet\n"
          ]
        }
      ],
      "source": [
        "import duckdb\n",
        "\n",
        "# Paths\n",
        "INPUT_CSV = '../data/raw/complaints.csv/complaints.csv'\n",
        "OUTPUT_PARQUET = '../data/filtered_complaints.parquet'\n",
        "\n",
        "# Define your filtering SQL\n",
        "query = f\"\"\"\n",
        "SELECT *\n",
        "FROM read_csv_auto('{INPUT_CSV}')\n",
        "WHERE \"Product\" IN (\n",
        "    'Credit card',\n",
        "    'Payday loan, title loan, or personal loan',\n",
        "    'Checking or savings account',\n",
        "    'Buy Now, Pay Later',\n",
        "    'Money transfers'\n",
        ") AND \"Consumer complaint narrative\" IS NOT NULL\n",
        "\"\"\"\n",
        "\n",
        "# Run the query and save as Parquet\n",
        "print(\"🔍 Filtering large CSV...\")\n",
        "filtered_df = duckdb.query(query).to_df()\n",
        "\n",
        "print(\"💾 Saving filtered data as Parquet...\")\n",
        "filtered_df.to_parquet(OUTPUT_PARQUET, index=False)\n",
        "\n",
        "print(f\"✅ Done! Saved to: {OUTPUT_PARQUET}\")\n"
      ]
    },
    {
      "cell_type": "code",
      "execution_count": null,
      "metadata": {},
      "outputs": [
        {
          "name": "stdout",
          "output_type": "stream",
          "text": [
            "Total rows in filtered data: 82164\n",
            "Unique products in filtered data:  ['Credit card' 'Money transfers']\n"
          ]
        }
      ],
      "source": [
        "print(f\"Total rows in filtered data: {len(filtered_df)}\")\n",
        "print(f\"Unique products in filtered data: \", filtered_df[\"Product\"].unique())"
      ]
    },
    {
      "cell_type": "code",
      "execution_count": 11,
      "metadata": {},
      "outputs": [
        {
          "name": "stdout",
          "output_type": "stream",
          "text": [
            "Total rows in filtered data: 239721\n",
            "Unique products in filtered data:  ['Checking or savings account' 'Credit card'\n",
            " 'Payday loan, title loan, or personal loan' 'Money transfers']\n"
          ]
        }
      ],
      "source": [
        "print(f\"Total rows in filtered data: {len(filtered_df)}\")\n",
        "print(f\"Unique products in filtered data: \", filtered_df[\"Product\"].unique())"
      ]
    },
    {
      "cell_type": "markdown",
      "metadata": {
        "id": "QaqNS6jsVj4e"
      },
      "source": [
        "### EDA"
      ]
    },
    {
      "cell_type": "code",
      "execution_count": 12,
      "metadata": {
        "id": "vtKh7630VXZJ"
      },
      "outputs": [],
      "source": [
        "import pandas as pd\n",
        "#  Load Filtered Parquet Data\n",
        "df = pd.read_parquet('../data/filtered_complaints.parquet')"
      ]
    },
    {
      "cell_type": "code",
      "execution_count": 13,
      "metadata": {},
      "outputs": [
        {
          "name": "stdout",
          "output_type": "stream",
          "text": [
            "['Checking or savings account' 'Credit card'\n",
            " 'Payday loan, title loan, or personal loan' 'Money transfers']\n"
          ]
        }
      ],
      "source": [
        "print(df[\"Product\"].unique())"
      ]
    },
    {
      "cell_type": "code",
      "execution_count": 14,
      "metadata": {},
      "outputs": [
        {
          "name": "stdout",
          "output_type": "stream",
          "text": [
            "📊 Data Overview:\n",
            "Total rows: 239721\n"
          ]
        }
      ],
      "source": [
        "print(\"📊 Data Overview:\")\n",
        "print(f\"Total rows: {len(df)}\")"
      ]
    },
    {
      "cell_type": "code",
      "execution_count": 15,
      "metadata": {},
      "outputs": [
        {
          "data": {
            "text/html": [
              "<div>\n",
              "<style scoped>\n",
              "    .dataframe tbody tr th:only-of-type {\n",
              "        vertical-align: middle;\n",
              "    }\n",
              "\n",
              "    .dataframe tbody tr th {\n",
              "        vertical-align: top;\n",
              "    }\n",
              "\n",
              "    .dataframe thead th {\n",
              "        text-align: right;\n",
              "    }\n",
              "</style>\n",
              "<table border=\"1\" class=\"dataframe\">\n",
              "  <thead>\n",
              "    <tr style=\"text-align: right;\">\n",
              "      <th></th>\n",
              "      <th>Date received</th>\n",
              "      <th>Product</th>\n",
              "      <th>Sub-product</th>\n",
              "      <th>Issue</th>\n",
              "      <th>Sub-issue</th>\n",
              "      <th>Consumer complaint narrative</th>\n",
              "      <th>Company public response</th>\n",
              "      <th>Company</th>\n",
              "      <th>State</th>\n",
              "      <th>ZIP code</th>\n",
              "      <th>Tags</th>\n",
              "      <th>Consumer consent provided?</th>\n",
              "      <th>Submitted via</th>\n",
              "      <th>Date sent to company</th>\n",
              "      <th>Company response to consumer</th>\n",
              "      <th>Timely response?</th>\n",
              "      <th>Consumer disputed?</th>\n",
              "      <th>Complaint ID</th>\n",
              "    </tr>\n",
              "  </thead>\n",
              "  <tbody>\n",
              "    <tr>\n",
              "      <th>0</th>\n",
              "      <td>2023-09-21</td>\n",
              "      <td>Checking or savings account</td>\n",
              "      <td>Checking account</td>\n",
              "      <td>Managing an account</td>\n",
              "      <td>Fee problem</td>\n",
              "      <td>Bank of America has charged me a {$12.00} mont...</td>\n",
              "      <td>Company has responded to the consumer and the ...</td>\n",
              "      <td>BANK OF AMERICA, NATIONAL ASSOCIATION</td>\n",
              "      <td>CA</td>\n",
              "      <td>95610</td>\n",
              "      <td>None</td>\n",
              "      <td>Consent provided</td>\n",
              "      <td>Web</td>\n",
              "      <td>2023-09-21</td>\n",
              "      <td>Closed with monetary relief</td>\n",
              "      <td>True</td>\n",
              "      <td>N/A</td>\n",
              "      <td>7585703</td>\n",
              "    </tr>\n",
              "    <tr>\n",
              "      <th>1</th>\n",
              "      <td>2025-02-26</td>\n",
              "      <td>Credit card</td>\n",
              "      <td>General-purpose credit card or charge card</td>\n",
              "      <td>Problem with a purchase shown on your statement</td>\n",
              "      <td>Credit card company isn't resolving a dispute ...</td>\n",
              "      <td>I was scammed online by a company named XXXX. ...</td>\n",
              "      <td>None</td>\n",
              "      <td>CAPITAL ONE FINANCIAL CORPORATION</td>\n",
              "      <td>HI</td>\n",
              "      <td>96789</td>\n",
              "      <td>Servicemember</td>\n",
              "      <td>Consent provided</td>\n",
              "      <td>Web</td>\n",
              "      <td>2025-02-26</td>\n",
              "      <td>Closed with monetary relief</td>\n",
              "      <td>True</td>\n",
              "      <td>N/A</td>\n",
              "      <td>12202313</td>\n",
              "    </tr>\n",
              "    <tr>\n",
              "      <th>2</th>\n",
              "      <td>2023-09-09</td>\n",
              "      <td>Credit card</td>\n",
              "      <td>General-purpose credit card or charge card</td>\n",
              "      <td>Problem with a purchase shown on your statement</td>\n",
              "      <td>Credit card company isn't resolving a dispute ...</td>\n",
              "      <td>My TD credit card had 3 unauthorized transacti...</td>\n",
              "      <td>None</td>\n",
              "      <td>TD BANK US HOLDING COMPANY</td>\n",
              "      <td>NY</td>\n",
              "      <td>100XX</td>\n",
              "      <td>None</td>\n",
              "      <td>Consent provided</td>\n",
              "      <td>Web</td>\n",
              "      <td>2023-09-09</td>\n",
              "      <td>Closed with non-monetary relief</td>\n",
              "      <td>True</td>\n",
              "      <td>N/A</td>\n",
              "      <td>7523444</td>\n",
              "    </tr>\n",
              "    <tr>\n",
              "      <th>3</th>\n",
              "      <td>2023-09-21</td>\n",
              "      <td>Checking or savings account</td>\n",
              "      <td>Checking account</td>\n",
              "      <td>Problem caused by your funds being low</td>\n",
              "      <td>Late or other fees</td>\n",
              "      <td>I'll never understand why people in America 's...</td>\n",
              "      <td>Company has responded to the consumer and the ...</td>\n",
              "      <td>BANK OF AMERICA, NATIONAL ASSOCIATION</td>\n",
              "      <td>CA</td>\n",
              "      <td>90044</td>\n",
              "      <td>None</td>\n",
              "      <td>Consent provided</td>\n",
              "      <td>Web</td>\n",
              "      <td>2023-09-21</td>\n",
              "      <td>Closed with explanation</td>\n",
              "      <td>True</td>\n",
              "      <td>N/A</td>\n",
              "      <td>7582968</td>\n",
              "    </tr>\n",
              "    <tr>\n",
              "      <th>4</th>\n",
              "      <td>2023-09-21</td>\n",
              "      <td>Checking or savings account</td>\n",
              "      <td>Checking account</td>\n",
              "      <td>Managing an account</td>\n",
              "      <td>Deposits and withdrawals</td>\n",
              "      <td>I have a small business checking account for m...</td>\n",
              "      <td>Company has responded to the consumer and the ...</td>\n",
              "      <td>BANK OF AMERICA, NATIONAL ASSOCIATION</td>\n",
              "      <td>IL</td>\n",
              "      <td>60543</td>\n",
              "      <td>Older American</td>\n",
              "      <td>Consent provided</td>\n",
              "      <td>Web</td>\n",
              "      <td>2023-09-21</td>\n",
              "      <td>Closed with explanation</td>\n",
              "      <td>False</td>\n",
              "      <td>N/A</td>\n",
              "      <td>7577502</td>\n",
              "    </tr>\n",
              "  </tbody>\n",
              "</table>\n",
              "</div>"
            ],
            "text/plain": [
              "  Date received                      Product  \\\n",
              "0    2023-09-21  Checking or savings account   \n",
              "1    2025-02-26                  Credit card   \n",
              "2    2023-09-09                  Credit card   \n",
              "3    2023-09-21  Checking or savings account   \n",
              "4    2023-09-21  Checking or savings account   \n",
              "\n",
              "                                  Sub-product  \\\n",
              "0                            Checking account   \n",
              "1  General-purpose credit card or charge card   \n",
              "2  General-purpose credit card or charge card   \n",
              "3                            Checking account   \n",
              "4                            Checking account   \n",
              "\n",
              "                                             Issue  \\\n",
              "0                              Managing an account   \n",
              "1  Problem with a purchase shown on your statement   \n",
              "2  Problem with a purchase shown on your statement   \n",
              "3           Problem caused by your funds being low   \n",
              "4                              Managing an account   \n",
              "\n",
              "                                           Sub-issue  \\\n",
              "0                                        Fee problem   \n",
              "1  Credit card company isn't resolving a dispute ...   \n",
              "2  Credit card company isn't resolving a dispute ...   \n",
              "3                                 Late or other fees   \n",
              "4                           Deposits and withdrawals   \n",
              "\n",
              "                        Consumer complaint narrative  \\\n",
              "0  Bank of America has charged me a {$12.00} mont...   \n",
              "1  I was scammed online by a company named XXXX. ...   \n",
              "2  My TD credit card had 3 unauthorized transacti...   \n",
              "3  I'll never understand why people in America 's...   \n",
              "4  I have a small business checking account for m...   \n",
              "\n",
              "                             Company public response  \\\n",
              "0  Company has responded to the consumer and the ...   \n",
              "1                                               None   \n",
              "2                                               None   \n",
              "3  Company has responded to the consumer and the ...   \n",
              "4  Company has responded to the consumer and the ...   \n",
              "\n",
              "                                 Company State ZIP code            Tags  \\\n",
              "0  BANK OF AMERICA, NATIONAL ASSOCIATION    CA    95610            None   \n",
              "1      CAPITAL ONE FINANCIAL CORPORATION    HI    96789   Servicemember   \n",
              "2             TD BANK US HOLDING COMPANY    NY    100XX            None   \n",
              "3  BANK OF AMERICA, NATIONAL ASSOCIATION    CA    90044            None   \n",
              "4  BANK OF AMERICA, NATIONAL ASSOCIATION    IL    60543  Older American   \n",
              "\n",
              "  Consumer consent provided? Submitted via Date sent to company  \\\n",
              "0           Consent provided           Web           2023-09-21   \n",
              "1           Consent provided           Web           2025-02-26   \n",
              "2           Consent provided           Web           2023-09-09   \n",
              "3           Consent provided           Web           2023-09-21   \n",
              "4           Consent provided           Web           2023-09-21   \n",
              "\n",
              "      Company response to consumer  Timely response? Consumer disputed?  \\\n",
              "0      Closed with monetary relief              True                N/A   \n",
              "1      Closed with monetary relief              True                N/A   \n",
              "2  Closed with non-monetary relief              True                N/A   \n",
              "3          Closed with explanation              True                N/A   \n",
              "4          Closed with explanation             False                N/A   \n",
              "\n",
              "   Complaint ID  \n",
              "0       7585703  \n",
              "1      12202313  \n",
              "2       7523444  \n",
              "3       7582968  \n",
              "4       7577502  "
            ]
          },
          "execution_count": 15,
          "metadata": {},
          "output_type": "execute_result"
        }
      ],
      "source": [
        "df.head()"
      ]
    },
    {
      "cell_type": "code",
      "execution_count": null,
      "metadata": {
        "id": "7EBcRyD7XA8B"
      },
      "outputs": [],
      "source": [
        "# Complaints Distribution by Product\n",
        "# 📌 1. Import Libraries\n",
        "import matplotlib.pyplot as plt\n",
        "import seaborn as sns\n",
        "\n",
        "# For clean visuals\n",
        "sns.set(style='whitegrid')\n",
        "\n",
        "product_counts = df['Product'].value_counts()\n",
        "\n",
        "plt.figure(figsize=(10,6))\n",
        "sns.barplot(x=product_counts.values, y=product_counts.index, palette='Blues_d')\n",
        "plt.title('Number of Complaints by Financial Product', fontsize=16)\n",
        "plt.xlabel('Number of Complaints')\n",
        "plt.ylabel('Product')\n",
        "plt.show()\n",
        "\n"
      ]
    },
    {
      "cell_type": "markdown",
      "metadata": {
        "id": "W0gJab8YXH85"
      },
      "source": [
        "Narrative Lengths"
      ]
    },
    {
      "cell_type": "code",
      "execution_count": 17,
      "metadata": {
        "id": "sFbAK8RlXLqJ"
      },
      "outputs": [
        {
          "name": "stdout",
          "output_type": "stream",
          "text": [
            "count    239721.000000\n",
            "mean        212.423680\n",
            "std         234.372846\n",
            "min           1.000000\n",
            "25%          77.000000\n",
            "50%         149.000000\n",
            "75%         268.000000\n",
            "max        6469.000000\n",
            "Name: Narrative_Length, dtype: float64\n"
          ]
        },
        {
          "data": {
            "image/png": "[encoded data removed]",
            "text/plain": [
              "<Figure size 640x480 with 1 Axes>"
            ]
          },
          "metadata": {},
          "output_type": "display_data"
        }
      ],
      "source": [
        "# Add length column\n",
        "df['Narrative_Length'] = df['Consumer complaint narrative'].astype(str).apply(lambda x: len(x.split()))\n",
        "\n",
        "# Describe narrative lengths\n",
        "print(df['Narrative_Length'].describe())\n",
        "\n",
        "# Histogram\n",
        "df['Narrative_Length'].plot(kind='hist', bins=50, title='Complaint Narrative Lengths')\n",
        "plt.xlabel('Word Count')\n",
        "plt.show()\n"
      ]
    },
    {
      "cell_type": "code",
      "execution_count": 32,
      "metadata": {},
      "outputs": [
        {
          "name": "stdout",
          "output_type": "stream",
          "text": [
            "Number of narratives longer than 1000 words: 2044\n"
          ]
        }
      ],
      "source": [
        "# how many of narratives are more than 1000 words\n",
        "long_narratives = df[df['Narrative_Length'] > 1000]\n",
        "print(f\"Number of narratives longer than 1000 words: {len(long_narratives)}\")"
      ]
    },
    {
      "cell_type": "markdown",
      "metadata": {},
      "source": [
        "drop outliers: cosidering their narratives are too long\n",
        "\n",
        "```python\n",
        "df = df[df['Narrative_Length'] < 1500]\n",
        "```"
      ]
    },
    {
      "cell_type": "code",
      "execution_count": 29,
      "metadata": {},
      "outputs": [],
      "source": [
        "df = df[df['Narrative_Length'] <= 1500]"
      ]
    },
    {
      "cell_type": "code",
      "execution_count": 33,
      "metadata": {},
      "outputs": [
        {
          "name": "stdout",
          "output_type": "stream",
          "text": [
            "count    238766.000000\n",
            "mean        204.543901\n",
            "std         192.702033\n",
            "min           1.000000\n",
            "25%          77.000000\n",
            "50%         148.000000\n",
            "75%         266.000000\n",
            "max        1500.000000\n",
            "Name: Narrative_Length, dtype: float64\n"
          ]
        },
        {
          "data": {
            "image/png": "[encoded data removed]",
            "text/plain": [
              "<Figure size 640x480 with 1 Axes>"
            ]
          },
          "metadata": {},
          "output_type": "display_data"
        }
      ],
      "source": [
        "# Describe narrative lengths\n",
        "print(df['Narrative_Length'].describe())\n",
        "\n",
        "# Histogram\n",
        "df['Narrative_Length'].plot(kind='hist', bins=50, title='Complaint Narrative Lengths')\n",
        "plt.xlabel('Word Count')\n",
        "plt.show()"
      ]
    },
    {
      "cell_type": "markdown",
      "metadata": {
        "id": "qG59ezDHXPNG"
      },
      "source": [
        "mISSING nARRATIVES"
      ]
    },
    {
      "cell_type": "code",
      "execution_count": 34,
      "metadata": {
        "id": "1aCyiN8fXTKJ"
      },
      "outputs": [
        {
          "name": "stdout",
          "output_type": "stream",
          "text": [
            "With narrative: 238766\n",
            "Without narrative: 0\n"
          ]
        }
      ],
      "source": [
        "# Complaints with/without narratives\n",
        "with_narrative = df['Consumer complaint narrative'].notnull().sum()\n",
        "without_narrative = df['Consumer complaint narrative'].isnull().sum()\n",
        "\n",
        "print(f\"With narrative: {with_narrative}\")\n",
        "print(f\"Without narrative: {without_narrative}\")\n"
      ]
    },
    {
      "cell_type": "markdown",
      "metadata": {
        "id": "IIZXMMkWXZgE"
      },
      "source": [
        "Filter & Clean"
      ]
    },
    {
      "cell_type": "code",
      "execution_count": 35,
      "metadata": {
        "id": "gWwaEKauXcZz"
      },
      "outputs": [],
      "source": [
        "# Basic cleaning function\n",
        "def clean_text(text):\n",
        "    import re\n",
        "    text = text.lower()\n",
        "    text = re.sub(r'[^a-zA-Z0-9\\s]', '', text)\n",
        "    text = re.sub(r'\\s+', ' ', text).strip()\n",
        "    return text\n",
        "\n",
        "df['Cleaned_Narrative'] = df['Consumer complaint narrative'].apply(clean_text)\n",
        "\n",
        "# Save cleaned dataset\n",
        "filtered_df.to_csv('../data/processed/filtered_complaints.csv', index=False)\n"
      ]
    },
    {
      "cell_type": "code",
      "execution_count": 36,
      "metadata": {},
      "outputs": [
        {
          "data": {
            "text/html": [
              "<div>\n",
              "<style scoped>\n",
              "    .dataframe tbody tr th:only-of-type {\n",
              "        vertical-align: middle;\n",
              "    }\n",
              "\n",
              "    .dataframe tbody tr th {\n",
              "        vertical-align: top;\n",
              "    }\n",
              "\n",
              "    .dataframe thead th {\n",
              "        text-align: right;\n",
              "    }\n",
              "</style>\n",
              "<table border=\"1\" class=\"dataframe\">\n",
              "  <thead>\n",
              "    <tr style=\"text-align: right;\">\n",
              "      <th></th>\n",
              "      <th>Date received</th>\n",
              "      <th>Product</th>\n",
              "      <th>Sub-product</th>\n",
              "      <th>Issue</th>\n",
              "      <th>Sub-issue</th>\n",
              "      <th>Consumer complaint narrative</th>\n",
              "      <th>Company public response</th>\n",
              "      <th>Company</th>\n",
              "      <th>State</th>\n",
              "      <th>ZIP code</th>\n",
              "      <th>Tags</th>\n",
              "      <th>Consumer consent provided?</th>\n",
              "      <th>Submitted via</th>\n",
              "      <th>Date sent to company</th>\n",
              "      <th>Company response to consumer</th>\n",
              "      <th>Timely response?</th>\n",
              "      <th>Consumer disputed?</th>\n",
              "      <th>Complaint ID</th>\n",
              "      <th>Narrative_Length</th>\n",
              "      <th>Cleaned_Narrative</th>\n",
              "    </tr>\n",
              "  </thead>\n",
              "  <tbody>\n",
              "    <tr>\n",
              "      <th>0</th>\n",
              "      <td>2023-09-21</td>\n",
              "      <td>Checking or savings account</td>\n",
              "      <td>Checking account</td>\n",
              "      <td>Managing an account</td>\n",
              "      <td>Fee problem</td>\n",
              "      <td>Bank of America has charged me a {$12.00} mont...</td>\n",
              "      <td>Company has responded to the consumer and the ...</td>\n",
              "      <td>BANK OF AMERICA, NATIONAL ASSOCIATION</td>\n",
              "      <td>CA</td>\n",
              "      <td>95610</td>\n",
              "      <td>None</td>\n",
              "      <td>Consent provided</td>\n",
              "      <td>Web</td>\n",
              "      <td>2023-09-21</td>\n",
              "      <td>Closed with monetary relief</td>\n",
              "      <td>True</td>\n",
              "      <td>N/A</td>\n",
              "      <td>7585703</td>\n",
              "      <td>147</td>\n",
              "      <td>bank of america has charged me a 1200 monthly ...</td>\n",
              "    </tr>\n",
              "    <tr>\n",
              "      <th>1</th>\n",
              "      <td>2025-02-26</td>\n",
              "      <td>Credit card</td>\n",
              "      <td>General-purpose credit card or charge card</td>\n",
              "      <td>Problem with a purchase shown on your statement</td>\n",
              "      <td>Credit card company isn't resolving a dispute ...</td>\n",
              "      <td>I was scammed online by a company named XXXX. ...</td>\n",
              "      <td>None</td>\n",
              "      <td>CAPITAL ONE FINANCIAL CORPORATION</td>\n",
              "      <td>HI</td>\n",
              "      <td>96789</td>\n",
              "      <td>Servicemember</td>\n",
              "      <td>Consent provided</td>\n",
              "      <td>Web</td>\n",
              "      <td>2025-02-26</td>\n",
              "      <td>Closed with monetary relief</td>\n",
              "      <td>True</td>\n",
              "      <td>N/A</td>\n",
              "      <td>12202313</td>\n",
              "      <td>136</td>\n",
              "      <td>i was scammed online by a company named xxxx i...</td>\n",
              "    </tr>\n",
              "    <tr>\n",
              "      <th>2</th>\n",
              "      <td>2023-09-09</td>\n",
              "      <td>Credit card</td>\n",
              "      <td>General-purpose credit card or charge card</td>\n",
              "      <td>Problem with a purchase shown on your statement</td>\n",
              "      <td>Credit card company isn't resolving a dispute ...</td>\n",
              "      <td>My TD credit card had 3 unauthorized transacti...</td>\n",
              "      <td>None</td>\n",
              "      <td>TD BANK US HOLDING COMPANY</td>\n",
              "      <td>NY</td>\n",
              "      <td>100XX</td>\n",
              "      <td>None</td>\n",
              "      <td>Consent provided</td>\n",
              "      <td>Web</td>\n",
              "      <td>2023-09-09</td>\n",
              "      <td>Closed with non-monetary relief</td>\n",
              "      <td>True</td>\n",
              "      <td>N/A</td>\n",
              "      <td>7523444</td>\n",
              "      <td>66</td>\n",
              "      <td>my td credit card had 3 unauthorized transacti...</td>\n",
              "    </tr>\n",
              "    <tr>\n",
              "      <th>3</th>\n",
              "      <td>2023-09-21</td>\n",
              "      <td>Checking or savings account</td>\n",
              "      <td>Checking account</td>\n",
              "      <td>Problem caused by your funds being low</td>\n",
              "      <td>Late or other fees</td>\n",
              "      <td>I'll never understand why people in America 's...</td>\n",
              "      <td>Company has responded to the consumer and the ...</td>\n",
              "      <td>BANK OF AMERICA, NATIONAL ASSOCIATION</td>\n",
              "      <td>CA</td>\n",
              "      <td>90044</td>\n",
              "      <td>None</td>\n",
              "      <td>Consent provided</td>\n",
              "      <td>Web</td>\n",
              "      <td>2023-09-21</td>\n",
              "      <td>Closed with explanation</td>\n",
              "      <td>True</td>\n",
              "      <td>N/A</td>\n",
              "      <td>7582968</td>\n",
              "      <td>166</td>\n",
              "      <td>ill never understand why people in america s c...</td>\n",
              "    </tr>\n",
              "    <tr>\n",
              "      <th>4</th>\n",
              "      <td>2023-09-21</td>\n",
              "      <td>Checking or savings account</td>\n",
              "      <td>Checking account</td>\n",
              "      <td>Managing an account</td>\n",
              "      <td>Deposits and withdrawals</td>\n",
              "      <td>I have a small business checking account for m...</td>\n",
              "      <td>Company has responded to the consumer and the ...</td>\n",
              "      <td>BANK OF AMERICA, NATIONAL ASSOCIATION</td>\n",
              "      <td>IL</td>\n",
              "      <td>60543</td>\n",
              "      <td>Older American</td>\n",
              "      <td>Consent provided</td>\n",
              "      <td>Web</td>\n",
              "      <td>2023-09-21</td>\n",
              "      <td>Closed with explanation</td>\n",
              "      <td>False</td>\n",
              "      <td>N/A</td>\n",
              "      <td>7577502</td>\n",
              "      <td>428</td>\n",
              "      <td>i have a small business checking account for m...</td>\n",
              "    </tr>\n",
              "  </tbody>\n",
              "</table>\n",
              "</div>"
            ],
            "text/plain": [
              "  Date received                      Product  \\\n",
              "0    2023-09-21  Checking or savings account   \n",
              "1    2025-02-26                  Credit card   \n",
              "2    2023-09-09                  Credit card   \n",
              "3    2023-09-21  Checking or savings account   \n",
              "4    2023-09-21  Checking or savings account   \n",
              "\n",
              "                                  Sub-product  \\\n",
              "0                            Checking account   \n",
              "1  General-purpose credit card or charge card   \n",
              "2  General-purpose credit card or charge card   \n",
              "3                            Checking account   \n",
              "4                            Checking account   \n",
              "\n",
              "                                             Issue  \\\n",
              "0                              Managing an account   \n",
              "1  Problem with a purchase shown on your statement   \n",
              "2  Problem with a purchase shown on your statement   \n",
              "3           Problem caused by your funds being low   \n",
              "4                              Managing an account   \n",
              "\n",
              "                                           Sub-issue  \\\n",
              "0                                        Fee problem   \n",
              "1  Credit card company isn't resolving a dispute ...   \n",
              "2  Credit card company isn't resolving a dispute ...   \n",
              "3                                 Late or other fees   \n",
              "4                           Deposits and withdrawals   \n",
              "\n",
              "                        Consumer complaint narrative  \\\n",
              "0  Bank of America has charged me a {$12.00} mont...   \n",
              "1  I was scammed online by a company named XXXX. ...   \n",
              "2  My TD credit card had 3 unauthorized transacti...   \n",
              "3  I'll never understand why people in America 's...   \n",
              "4  I have a small business checking account for m...   \n",
              "\n",
              "                             Company public response  \\\n",
              "0  Company has responded to the consumer and the ...   \n",
              "1                                               None   \n",
              "2                                               None   \n",
              "3  Company has responded to the consumer and the ...   \n",
              "4  Company has responded to the consumer and the ...   \n",
              "\n",
              "                                 Company State ZIP code            Tags  \\\n",
              "0  BANK OF AMERICA, NATIONAL ASSOCIATION    CA    95610            None   \n",
              "1      CAPITAL ONE FINANCIAL CORPORATION    HI    96789   Servicemember   \n",
              "2             TD BANK US HOLDING COMPANY    NY    100XX            None   \n",
              "3  BANK OF AMERICA, NATIONAL ASSOCIATION    CA    90044            None   \n",
              "4  BANK OF AMERICA, NATIONAL ASSOCIATION    IL    60543  Older American   \n",
              "\n",
              "  Consumer consent provided? Submitted via Date sent to company  \\\n",
              "0           Consent provided           Web           2023-09-21   \n",
              "1           Consent provided           Web           2025-02-26   \n",
              "2           Consent provided           Web           2023-09-09   \n",
              "3           Consent provided           Web           2023-09-21   \n",
              "4           Consent provided           Web           2023-09-21   \n",
              "\n",
              "      Company response to consumer  Timely response? Consumer disputed?  \\\n",
              "0      Closed with monetary relief              True                N/A   \n",
              "1      Closed with monetary relief              True                N/A   \n",
              "2  Closed with non-monetary relief              True                N/A   \n",
              "3          Closed with explanation              True                N/A   \n",
              "4          Closed with explanation             False                N/A   \n",
              "\n",
              "   Complaint ID  Narrative_Length  \\\n",
              "0       7585703               147   \n",
              "1      12202313               136   \n",
              "2       7523444                66   \n",
              "3       7582968               166   \n",
              "4       7577502               428   \n",
              "\n",
              "                                   Cleaned_Narrative  \n",
              "0  bank of america has charged me a 1200 monthly ...  \n",
              "1  i was scammed online by a company named xxxx i...  \n",
              "2  my td credit card had 3 unauthorized transacti...  \n",
              "3  ill never understand why people in america s c...  \n",
              "4  i have a small business checking account for m...  "
            ]
          },
          "execution_count": 36,
          "metadata": {},
          "output_type": "execute_result"
        }
      ],
      "source": [
        "df.head()"
      ]
    },
    {
      "cell_type": "markdown",
      "metadata": {
        "id": "2BiTX7swXezQ"
      },
      "source": [
        "Summary:\n",
        "- The given dataset is a large CSV file containing complaints about financial products.\n",
        "- No products for Buy Now, Pay Later (BNPL)\n",
        "- The product distribution is as follows:\n",
        "    - Checking or savings account (140000+)\n",
        "    - Credit card (80000+)\n",
        "    - Money transfers (< 1000)\n",
        "- The narrative column contains text data, which may be useful for further analysis.\n",
        "- There is outliers in the length of narratives\n",
        "- Cleaned dataset saved to '../data/processed/filtered_complaints.csv'"
      ]
    }
  ],
  "metadata": {
    "colab": {
      "provenance": []
    },
    "kernelspec": {
      "display_name": "week6",
      "language": "python",
      "name": "python3"
    },
    "language_info": {
      "codemirror_mode": {
        "name": "ipython",
        "version": 3
      },
      "file_extension": ".py",
      "mimetype": "text/x-python",
      "name": "python",
      "nbconvert_exporter": "python",
      "pygments_lexer": "ipython3",
      "version": "3.13.2"
    }
  },
  "nbformat": 4,
  "nbformat_minor": 0
}
